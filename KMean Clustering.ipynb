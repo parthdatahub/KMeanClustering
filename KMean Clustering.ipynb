{
 "cells": [
  {
   "cell_type": "markdown",
   "id": "0032d046",
   "metadata": {},
   "source": [
    "### Unsupervised Machine Learning Algorithm"
   ]
  },
  {
   "cell_type": "code",
   "execution_count": null,
   "id": "56e80862",
   "metadata": {},
   "outputs": [],
   "source": [
    "Only Independepent Variables are Present.\n",
    "i.e. Unlablled Data --> No Target Column.\n",
    "\n",
    "# Can Not Evaluate the model\n",
    "# No train Test Split\n",
    "# No Training No Testing\n",
    "\n",
    "# Can Do\n",
    "# Find Simillar Properties Datapoints and able to clusters them\n",
    "\n",
    "# Batsman, Bowler, All Rounder"
   ]
  }
 ],
 "metadata": {
  "kernelspec": {
   "display_name": "Python 3 (ipykernel)",
   "language": "python",
   "name": "python3"
  },
  "language_info": {
   "codemirror_mode": {
    "name": "ipython",
    "version": 3
   },
   "file_extension": ".py",
   "mimetype": "text/x-python",
   "name": "python",
   "nbconvert_exporter": "python",
   "pygments_lexer": "ipython3",
   "version": "3.11.0"
  }
 },
 "nbformat": 4,
 "nbformat_minor": 5
}
